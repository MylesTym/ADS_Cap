{
 "cells": [
  {
   "cell_type": "code",
   "execution_count": 3,
   "id": "22d7ef97",
   "metadata": {},
   "outputs": [],
   "source": [
    "import numpy as np\n",
    "import pandas as pd"
   ]
  },
  {
   "cell_type": "code",
   "execution_count": 4,
   "id": "6ff42b8e",
   "metadata": {},
   "outputs": [],
   "source": [
    "df = pd.read_csv('data/data.csv')"
   ]
  },
  {
   "cell_type": "code",
   "execution_count": 6,
   "id": "165dc2ec",
   "metadata": {},
   "outputs": [
    {
     "name": "stdout",
     "output_type": "stream",
     "text": [
      "<class 'pandas.core.frame.DataFrame'>\n",
      "RangeIndex: 1407942 entries, 0 to 1407941\n",
      "Data columns (total 18 columns):\n",
      " #   Column                        Non-Null Count    Dtype  \n",
      "---  ------                        --------------    -----  \n",
      " 0   Date received                 1407942 non-null  object \n",
      " 1   Product                       1407942 non-null  object \n",
      " 2   Sub-product                   1378566 non-null  object \n",
      " 3   Issue                         1407942 non-null  object \n",
      " 4   Sub-issue                     1272575 non-null  object \n",
      " 5   Consumer complaint narrative  1407941 non-null  object \n",
      " 6   Company public response       754793 non-null   object \n",
      " 7   Company                       1407941 non-null  object \n",
      " 8   State                         1402833 non-null  object \n",
      " 9   ZIP code                      1407941 non-null  object \n",
      " 10  Tags                          155861 non-null   object \n",
      " 11  Consumer consent provided?    1407941 non-null  object \n",
      " 12  Submitted via                 1407941 non-null  object \n",
      " 13  Date sent to company          1407941 non-null  object \n",
      " 14  Company response to consumer  1407936 non-null  object \n",
      " 15  Timely response?              1407941 non-null  object \n",
      " 16  Consumer disputed?            91905 non-null    object \n",
      " 17  Complaint ID                  1407941 non-null  float64\n",
      "dtypes: float64(1), object(17)\n",
      "memory usage: 193.4+ MB\n"
     ]
    },
    {
     "data": {
      "application/vnd.microsoft.datawrangler.viewer.v0+json": {
       "columns": [
        {
         "name": "index",
         "rawType": "object",
         "type": "string"
        },
        {
         "name": "Complaint ID",
         "rawType": "float64",
         "type": "float"
        }
       ],
       "ref": "6ed7b71b-3e81-4217-b691-3855df0b3ecb",
       "rows": [
        [
         "count",
         "1407941.0"
        ],
        [
         "mean",
         "6450262.2098113485"
        ],
        [
         "std",
         "2750105.46235405"
        ],
        [
         "min",
         "1290157.0"
        ],
        [
         "25%",
         "3890939.0"
        ],
        [
         "50%",
         "6536953.0"
        ],
        [
         "75%",
         "8778808.0"
        ],
        [
         "max",
         "11677911.0"
        ]
       ],
       "shape": {
        "columns": 1,
        "rows": 8
       }
      },
      "text/html": [
       "<div>\n",
       "<style scoped>\n",
       "    .dataframe tbody tr th:only-of-type {\n",
       "        vertical-align: middle;\n",
       "    }\n",
       "\n",
       "    .dataframe tbody tr th {\n",
       "        vertical-align: top;\n",
       "    }\n",
       "\n",
       "    .dataframe thead th {\n",
       "        text-align: right;\n",
       "    }\n",
       "</style>\n",
       "<table border=\"1\" class=\"dataframe\">\n",
       "  <thead>\n",
       "    <tr style=\"text-align: right;\">\n",
       "      <th></th>\n",
       "      <th>Complaint ID</th>\n",
       "    </tr>\n",
       "  </thead>\n",
       "  <tbody>\n",
       "    <tr>\n",
       "      <th>count</th>\n",
       "      <td>1.407941e+06</td>\n",
       "    </tr>\n",
       "    <tr>\n",
       "      <th>mean</th>\n",
       "      <td>6.450262e+06</td>\n",
       "    </tr>\n",
       "    <tr>\n",
       "      <th>std</th>\n",
       "      <td>2.750105e+06</td>\n",
       "    </tr>\n",
       "    <tr>\n",
       "      <th>min</th>\n",
       "      <td>1.290157e+06</td>\n",
       "    </tr>\n",
       "    <tr>\n",
       "      <th>25%</th>\n",
       "      <td>3.890939e+06</td>\n",
       "    </tr>\n",
       "    <tr>\n",
       "      <th>50%</th>\n",
       "      <td>6.536953e+06</td>\n",
       "    </tr>\n",
       "    <tr>\n",
       "      <th>75%</th>\n",
       "      <td>8.778808e+06</td>\n",
       "    </tr>\n",
       "    <tr>\n",
       "      <th>max</th>\n",
       "      <td>1.167791e+07</td>\n",
       "    </tr>\n",
       "  </tbody>\n",
       "</table>\n",
       "</div>"
      ],
      "text/plain": [
       "       Complaint ID\n",
       "count  1.407941e+06\n",
       "mean   6.450262e+06\n",
       "std    2.750105e+06\n",
       "min    1.290157e+06\n",
       "25%    3.890939e+06\n",
       "50%    6.536953e+06\n",
       "75%    8.778808e+06\n",
       "max    1.167791e+07"
      ]
     },
     "execution_count": 6,
     "metadata": {},
     "output_type": "execute_result"
    }
   ],
   "source": [
    "df.count()\n",
    "df.head()\n",
    "df.info()\n",
    "df.describe()"
   ]
  },
  {
   "cell_type": "code",
   "execution_count": null,
   "id": "5cad0e3f",
   "metadata": {},
   "outputs": [
    {
     "data": {
      "text/plain": [
       "<bound method DataFrame.count of         Date received                                            Product  \\\n",
       "0            11/22/23  Credit reporting or other personal consumer re...   \n",
       "1            05/21/19                        Credit card or prepaid card   \n",
       "2            12/26/18  Money transfer, virtual currency, or money ser...   \n",
       "3            05/22/17                                    Debt collection   \n",
       "4            07/03/23  Credit reporting, credit repair services, or o...   \n",
       "...               ...                                                ...   \n",
       "1407937      10/05/16                                      Consumer Loan   \n",
       "1407938      10/06/23                                           Mortgage   \n",
       "1407939      09/04/23  Credit reporting or other personal consumer re...   \n",
       "1407940      12/25/22  Credit reporting, credit repair services, or o...   \n",
       "1407941      10/16/16                                       Student loan   \n",
       "\n",
       "                                        Sub-product  \\\n",
       "0                                  Credit reporting   \n",
       "1        General-purpose credit card or charge card   \n",
       "2                      International money transfer   \n",
       "3                                        Other debt   \n",
       "4                                  Credit reporting   \n",
       "...                                             ...   \n",
       "1407937                                Vehicle loan   \n",
       "1407938                  Conventional home mortgage   \n",
       "1407939                            Credit reporting   \n",
       "1407940                            Credit reporting   \n",
       "1407941                    Non-federal student loan   \n",
       "\n",
       "                                                     Issue  \\\n",
       "0                     Incorrect information on your report   \n",
       "1        Advertising and marketing, including promotion...   \n",
       "2                                Other transaction problem   \n",
       "3                        Attempts to collect debt not owed   \n",
       "4                              Improper use of your report   \n",
       "...                                                    ...   \n",
       "1407937                Problems when you are unable to pay   \n",
       "1407938  Applying for a mortgage or refinancing an exis...   \n",
       "1407939  Problem with a company's investigation into an...   \n",
       "1407940                        Improper use of your report   \n",
       "1407941                                Can't repay my loan   \n",
       "\n",
       "                                                 Sub-issue  \\\n",
       "0                      Information belongs to someone else   \n",
       "1           Didn't receive advertised or promotional terms   \n",
       "2                                                      NaN   \n",
       "3                                            Debt was paid   \n",
       "4            Reporting company used your report improperly   \n",
       "...                                                    ...   \n",
       "1407937                                                NaN   \n",
       "1407938   Confusing or misleading advertising or marketing   \n",
       "1407939  Their investigation did not fix an error on yo...   \n",
       "1407940      Reporting company used your report improperly   \n",
       "1407941                        Can't get flexible payment    \n",
       "\n",
       "                              Consumer complaint narrative  \\\n",
       "0        This is my multiple endeavor to tell you that ...   \n",
       "1        On approximately XX/XX/19, I took advantage of...   \n",
       "2        The money transfer got cancelled last minute f...   \n",
       "3        On  XXXX   XXXX ,  XXXX , I contacted Monterey...   \n",
       "4        The credit bureau stated my account was proper...   \n",
       "...                                                    ...   \n",
       "1407937  I noticed a collection account on my credit fr...   \n",
       "1407938  I hope this message finds you well. I want to ...   \n",
       "1407939  When I investigated my credit report, I realiz...   \n",
       "1407940  Hello I sent a letter on XX/XX/2022 to the XXX...   \n",
       "1407941                                                NaN   \n",
       "\n",
       "                                   Company public response  \\\n",
       "0        Company has responded to the consumer and the ...   \n",
       "1        Company has responded to the consumer and the ...   \n",
       "2                                                      NaN   \n",
       "3        Company believes it acted appropriately as aut...   \n",
       "4                                                      NaN   \n",
       "...                                                    ...   \n",
       "1407937                                                NaN   \n",
       "1407938                                                NaN   \n",
       "1407939                                                NaN   \n",
       "1407940  Company has responded to the consumer and the ...   \n",
       "1407941                                                NaN   \n",
       "\n",
       "                                       Company State ZIP code Tags  \\\n",
       "0          Experian Information Solutions Inc.    CA    92335  NaN   \n",
       "1        BANK OF AMERICA, NATIONAL ASSOCIATION    IL    605XX  NaN   \n",
       "2                   WESTERN UNION COMPANY, THE    CT    06611  NaN   \n",
       "3              Monterey Financial Services LLC    CA    95776  NaN   \n",
       "4                                EQUIFAX, INC.    GA    30815  NaN   \n",
       "...                                        ...   ...      ...  ...   \n",
       "1407937         Heritage Financial Group, Inc.    OH    452XX  NaN   \n",
       "1407938             Flat Branch Mortgage, Inc.    MO    631XX  NaN   \n",
       "1407939                          EQUIFAX, INC.    FL    33023  NaN   \n",
       "1407940    Experian Information Solutions Inc.    AZ    XXXXX  NaN   \n",
       "1407941                                    NaN   NaN      NaN  NaN   \n",
       "\n",
       "        Consumer consent provided? Submitted via Date sent to company  \\\n",
       "0                 Consent provided           Web             11/22/23   \n",
       "1                 Consent provided           Web             05/21/19   \n",
       "2                 Consent provided           Web             12/26/18   \n",
       "3                 Consent provided           Web             05/22/17   \n",
       "4                 Consent provided           Web             07/03/23   \n",
       "...                            ...           ...                  ...   \n",
       "1407937           Consent provided           Web             10/12/16   \n",
       "1407938           Consent provided           Web             10/23/23   \n",
       "1407939           Consent provided           Web             09/04/23   \n",
       "1407940           Consent provided           Web             12/25/22   \n",
       "1407941                        NaN           NaN                  NaN   \n",
       "\n",
       "            Company response to consumer Timely response? Consumer disputed?  \\\n",
       "0        Closed with non-monetary relief              Yes                NaN   \n",
       "1                Closed with explanation              Yes                NaN   \n",
       "2                Closed with explanation              Yes                NaN   \n",
       "3                Closed with explanation              Yes                NaN   \n",
       "4                Closed with explanation              Yes                NaN   \n",
       "...                                  ...              ...                ...   \n",
       "1407937          Closed with explanation              Yes                 No   \n",
       "1407938          Closed with explanation              Yes                NaN   \n",
       "1407939  Closed with non-monetary relief              Yes                NaN   \n",
       "1407940  Closed with non-monetary relief              Yes                NaN   \n",
       "1407941                              NaN              NaN                NaN   \n",
       "\n",
       "         Complaint ID  \n",
       "0           7890541.0  \n",
       "1           3248587.0  \n",
       "2           3109331.0  \n",
       "3           2491193.0  \n",
       "4           7200829.0  \n",
       "...               ...  \n",
       "1407937     2147413.0  \n",
       "1407938     7655861.0  \n",
       "1407939     7493531.0  \n",
       "1407940     6359941.0  \n",
       "1407941           NaN  \n",
       "\n",
       "[1407942 rows x 18 columns]>"
      ]
     },
     "execution_count": 7,
     "metadata": {},
     "output_type": "execute_result"
    }
   ],
   "source": []
  }
 ],
 "metadata": {
  "kernelspec": {
   "display_name": ".venv",
   "language": "python",
   "name": "python3"
  },
  "language_info": {
   "codemirror_mode": {
    "name": "ipython",
    "version": 3
   },
   "file_extension": ".py",
   "mimetype": "text/x-python",
   "name": "python",
   "nbconvert_exporter": "python",
   "pygments_lexer": "ipython3",
   "version": "3.13.0"
  }
 },
 "nbformat": 4,
 "nbformat_minor": 5
}
