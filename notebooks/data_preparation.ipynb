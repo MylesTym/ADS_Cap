{
 "cells": [
  {
   "cell_type": "code",
   "execution_count": 52,
   "id": "22d7ef97",
   "metadata": {},
   "outputs": [],
   "source": [
    "import numpy as np\n",
    "import pandas as pd\n",
    "import zipcodes\n",
    "import re\n",
    "import os"
   ]
  },
  {
   "cell_type": "code",
   "execution_count": 53,
   "id": "7b8c15df",
   "metadata": {},
   "outputs": [],
   "source": [
    "# Helper functions\n",
    "def zip_state(zip_code):\n",
    "    if pd.isna(zip_code):\n",
    "        return \"unkown\"\n",
    "    zip_str = str(zip_code).zfill(5)\n",
    "    result = zipcodes.matching(zip_str)\n",
    "    if result:\n",
    "        return result[0].get('state', 'unkown')\n",
    "    return 'unkown'\n",
    "\n",
    "def clean_zip(zip_code):\n",
    "    zip_str = str(zip_code).strip().upper()\n",
    "    if 'X' in zip_str:\n",
    "        digit_only = ''.join([c for c in zip_str if c.isdigit()])\n",
    "        if len(digit_only) >= 3:\n",
    "            return digit_only.ljust(5, '0')\n",
    "        else:\n",
    "            return None\n",
    "    if zip_str.isdigit() and len(zip_str) <= 5:\n",
    "        return zip_str.zfill(5)\n",
    "    return None\n",
    "\n",
    "\n",
    "def group_cats(df, col, threshold=0.01):\n",
    "    freq = df[col].value_counts(normalize=True)\n",
    "    rare = freq[freq < threshold].index\n",
    "    df[col] = df[col].replace(rare, 'Rare')\n",
    "    return df\n",
    "\n",
    "def clean_text(text):\n",
    "    text = str(text).lower().strip()\n",
    "    text = re.sub(r'[^\\w\\s]', '', text)\n",
    "    text = re.sub(r'\\s+', ' ', text)\n",
    "    return text\n",
    "\n",
    "def export(df, folder_path='../data/', filename='clean_data.csv'):\n",
    "    full_path = os.path.join(folder_path, filename)\n",
    "    df.to_csv(full_path, index=False)\n",
    "    print(f\"data exported: {full_path}\")\n"
   ]
  },
  {
   "cell_type": "code",
   "execution_count": 54,
   "id": "6ff42b8e",
   "metadata": {},
   "outputs": [
    {
     "name": "stdout",
     "output_type": "stream",
     "text": [
      "<class 'pandas.core.frame.DataFrame'>\n",
      "RangeIndex: 1407942 entries, 0 to 1407941\n",
      "Data columns (total 18 columns):\n",
      " #   Column                        Non-Null Count    Dtype  \n",
      "---  ------                        --------------    -----  \n",
      " 0   Date received                 1407942 non-null  object \n",
      " 1   Product                       1407942 non-null  object \n",
      " 2   Sub-product                   1378566 non-null  object \n",
      " 3   Issue                         1407942 non-null  object \n",
      " 4   Sub-issue                     1272575 non-null  object \n",
      " 5   Consumer complaint narrative  1407941 non-null  object \n",
      " 6   Company public response       754793 non-null   object \n",
      " 7   Company                       1407941 non-null  object \n",
      " 8   State                         1402833 non-null  object \n",
      " 9   ZIP code                      1407941 non-null  object \n",
      " 10  Tags                          155861 non-null   object \n",
      " 11  Consumer consent provided?    1407941 non-null  object \n",
      " 12  Submitted via                 1407941 non-null  object \n",
      " 13  Date sent to company          1407941 non-null  object \n",
      " 14  Company response to consumer  1407936 non-null  object \n",
      " 15  Timely response?              1407941 non-null  object \n",
      " 16  Consumer disputed?            91905 non-null    object \n",
      " 17  Complaint ID                  1407941 non-null  float64\n",
      "dtypes: float64(1), object(17)\n",
      "memory usage: 193.4+ MB\n"
     ]
    },
    {
     "data": {
      "application/vnd.microsoft.datawrangler.viewer.v0+json": {
       "columns": [
        {
         "name": "index",
         "rawType": "object",
         "type": "string"
        },
        {
         "name": "Complaint ID",
         "rawType": "float64",
         "type": "float"
        }
       ],
       "ref": "f53c53b9-ea21-4977-ac92-b076263d33e2",
       "rows": [
        [
         "count",
         "1407941.0"
        ],
        [
         "mean",
         "6450262.2098113485"
        ],
        [
         "std",
         "2750105.46235405"
        ],
        [
         "min",
         "1290157.0"
        ],
        [
         "25%",
         "3890939.0"
        ],
        [
         "50%",
         "6536953.0"
        ],
        [
         "75%",
         "8778808.0"
        ],
        [
         "max",
         "11677911.0"
        ]
       ],
       "shape": {
        "columns": 1,
        "rows": 8
       }
      },
      "text/html": [
       "<div>\n",
       "<style scoped>\n",
       "    .dataframe tbody tr th:only-of-type {\n",
       "        vertical-align: middle;\n",
       "    }\n",
       "\n",
       "    .dataframe tbody tr th {\n",
       "        vertical-align: top;\n",
       "    }\n",
       "\n",
       "    .dataframe thead th {\n",
       "        text-align: right;\n",
       "    }\n",
       "</style>\n",
       "<table border=\"1\" class=\"dataframe\">\n",
       "  <thead>\n",
       "    <tr style=\"text-align: right;\">\n",
       "      <th></th>\n",
       "      <th>Complaint ID</th>\n",
       "    </tr>\n",
       "  </thead>\n",
       "  <tbody>\n",
       "    <tr>\n",
       "      <th>count</th>\n",
       "      <td>1.407941e+06</td>\n",
       "    </tr>\n",
       "    <tr>\n",
       "      <th>mean</th>\n",
       "      <td>6.450262e+06</td>\n",
       "    </tr>\n",
       "    <tr>\n",
       "      <th>std</th>\n",
       "      <td>2.750105e+06</td>\n",
       "    </tr>\n",
       "    <tr>\n",
       "      <th>min</th>\n",
       "      <td>1.290157e+06</td>\n",
       "    </tr>\n",
       "    <tr>\n",
       "      <th>25%</th>\n",
       "      <td>3.890939e+06</td>\n",
       "    </tr>\n",
       "    <tr>\n",
       "      <th>50%</th>\n",
       "      <td>6.536953e+06</td>\n",
       "    </tr>\n",
       "    <tr>\n",
       "      <th>75%</th>\n",
       "      <td>8.778808e+06</td>\n",
       "    </tr>\n",
       "    <tr>\n",
       "      <th>max</th>\n",
       "      <td>1.167791e+07</td>\n",
       "    </tr>\n",
       "  </tbody>\n",
       "</table>\n",
       "</div>"
      ],
      "text/plain": [
       "       Complaint ID\n",
       "count  1.407941e+06\n",
       "mean   6.450262e+06\n",
       "std    2.750105e+06\n",
       "min    1.290157e+06\n",
       "25%    3.890939e+06\n",
       "50%    6.536953e+06\n",
       "75%    8.778808e+06\n",
       "max    1.167791e+07"
      ]
     },
     "execution_count": 54,
     "metadata": {},
     "output_type": "execute_result"
    }
   ],
   "source": [
    "# Primary dataset input and basic information\n",
    "df = pd.read_csv('../data/data.csv')\n",
    "df.count()\n",
    "df.head()\n",
    "df.info()\n",
    "df.describe()"
   ]
  },
  {
   "cell_type": "code",
   "execution_count": 55,
   "id": "5cad0e3f",
   "metadata": {},
   "outputs": [],
   "source": [
    "# Dropping exact dupes and standarization of column names\n",
    "df.drop_duplicates(inplace=True)\n",
    "df.columns = df.columns.str.strip().str.lower().str.replace(' ', '_')"
   ]
  },
  {
   "cell_type": "code",
   "execution_count": 56,
   "id": "ff2f2800",
   "metadata": {},
   "outputs": [
    {
     "name": "stderr",
     "output_type": "stream",
     "text": [
      "/var/folders/zg/_j5hfs9d12d155g0l1sy26n00000gn/T/ipykernel_26079/4029791801.py:2: UserWarning: Could not infer format, so each element will be parsed individually, falling back to `dateutil`. To ensure parsing is consistent and as-expected, please specify a format.\n",
      "  df['date_received'] = pd.to_datetime(df['date_received'], errors='coerce')\n",
      "/var/folders/zg/_j5hfs9d12d155g0l1sy26n00000gn/T/ipykernel_26079/4029791801.py:3: UserWarning: Could not infer format, so each element will be parsed individually, falling back to `dateutil`. To ensure parsing is consistent and as-expected, please specify a format.\n",
      "  df['date_sent_to_company'] = pd.to_datetime(df['date_sent_to_company'], errors='coerce')\n"
     ]
    }
   ],
   "source": [
    "# Date handeling\n",
    "df['date_received'] = pd.to_datetime(df['date_received'], errors='coerce')\n",
    "df['date_sent_to_company'] = pd.to_datetime(df['date_sent_to_company'], errors='coerce')"
   ]
  },
  {
   "cell_type": "code",
   "execution_count": 57,
   "id": "cf6e3809",
   "metadata": {},
   "outputs": [],
   "source": [
    "# Drop unnessary columns\n",
    "dropping_cols = ['submitted_via', 'consumer_consent_provided?', 'complaint_id', 'timely_response?', 'consumer_disputed?']\n",
    "df.drop(columns=dropping_cols, inplace=True)"
   ]
  },
  {
   "cell_type": "code",
   "execution_count": 58,
   "id": "8b25b781",
   "metadata": {},
   "outputs": [
    {
     "name": "stdout",
     "output_type": "stream",
     "text": [
      "<class 'pandas.core.frame.DataFrame'>\n",
      "RangeIndex: 1407942 entries, 0 to 1407941\n",
      "Data columns (total 13 columns):\n",
      " #   Column                        Non-Null Count    Dtype         \n",
      "---  ------                        --------------    -----         \n",
      " 0   date_received                 1407942 non-null  datetime64[ns]\n",
      " 1   product                       1407942 non-null  object        \n",
      " 2   sub-product                   1378566 non-null  object        \n",
      " 3   issue                         1407942 non-null  object        \n",
      " 4   sub-issue                     1272575 non-null  object        \n",
      " 5   consumer_complaint_narrative  1407941 non-null  object        \n",
      " 6   company_public_response       754793 non-null   object        \n",
      " 7   company                       1407941 non-null  object        \n",
      " 8   state                         1402833 non-null  object        \n",
      " 9   zip_code                      1407942 non-null  object        \n",
      " 10  tags                          155861 non-null   object        \n",
      " 11  date_sent_to_company          1407941 non-null  datetime64[ns]\n",
      " 12  company_response_to_consumer  1407936 non-null  object        \n",
      "dtypes: datetime64[ns](2), object(11)\n",
      "memory usage: 139.6+ MB\n"
     ]
    },
    {
     "data": {
      "application/vnd.microsoft.datawrangler.viewer.v0+json": {
       "columns": [
        {
         "name": "index",
         "rawType": "int64",
         "type": "integer"
        },
        {
         "name": "date_received",
         "rawType": "datetime64[ns]",
         "type": "datetime"
        },
        {
         "name": "product",
         "rawType": "object",
         "type": "string"
        },
        {
         "name": "sub-product",
         "rawType": "object",
         "type": "string"
        },
        {
         "name": "issue",
         "rawType": "object",
         "type": "string"
        },
        {
         "name": "sub-issue",
         "rawType": "object",
         "type": "unknown"
        },
        {
         "name": "consumer_complaint_narrative",
         "rawType": "object",
         "type": "string"
        },
        {
         "name": "company_public_response",
         "rawType": "object",
         "type": "unknown"
        },
        {
         "name": "company",
         "rawType": "object",
         "type": "string"
        },
        {
         "name": "state",
         "rawType": "object",
         "type": "string"
        },
        {
         "name": "zip_code",
         "rawType": "object",
         "type": "string"
        },
        {
         "name": "tags",
         "rawType": "object",
         "type": "unknown"
        },
        {
         "name": "date_sent_to_company",
         "rawType": "datetime64[ns]",
         "type": "datetime"
        },
        {
         "name": "company_response_to_consumer",
         "rawType": "object",
         "type": "string"
        }
       ],
       "ref": "2842e8e0-8c88-449e-852d-a7fff834b856",
       "rows": [
        [
         "0",
         "2023-11-22 00:00:00",
         "Credit reporting or other personal consumer reports",
         "Credit reporting",
         "Incorrect information on your report",
         "Information belongs to someone else",
         "This is my multiple endeavor to tell you that I am a victim of identity theft and I complain to question specific records in my document coming about because of the wrongdoing. The records I am questioning connect with no exchanges acquiring any possession of goods, services, or money that I have made or authorized. Assuming no one cares, either way, block the noteworthy of any information in my credit record that came about due to alleged fraud or extortion. \n\nXXXX XXXX XXXX XXXX XXXX XXXX XXXX XXXX XXXX XXXX XXXX XXXX XXXX XXXX XXXX XXXX XXXX XXXX XXXX XXXX XXXX XXXX XXXX XXXX XXXX XXXX XXXX XXXX XXXX XXXX XXXX XXXX XXXX XXXX XXXX XXXX XXXX XXXX XXXX XXXX XXXX XXXX XXXX XXXX XXXX XXXX XXXX XXXX XXXX XXXX XXXX XXXX XXXX XXXX XXXX XXXX XXXX XXXX XXXX XXXX XXXX XXXX XXXX XXXX XXXX XXXX XXXX XXXX XXXX XXXX XXXX XXXX XXXX XXXX XXXX XXXX XXXX XXXX XXXX XXXX XXXX XXXX XXXX XXXX XXXX XXXX XXXX XXXX XXXX XXXX XXXX XXXX XXXX XXXX XXXX XXXX XXXX XXXX XXXX XXXX XXXX XXXX XXXX XXXX XXXX XXXX",
         "Company has responded to the consumer and the CFPB and chooses not to provide a public response",
         "Experian Information Solutions Inc.",
         "CA",
         "92335",
         null,
         "2023-11-22 00:00:00",
         "Closed with non-monetary relief"
        ],
        [
         "1",
         "2019-05-21 00:00:00",
         "Credit card or prepaid card",
         "General-purpose credit card or charge card",
         "Advertising and marketing, including promotional offers",
         "Didn't receive advertised or promotional terms",
         "On approximately XX/XX/19, I took advantage of an offer from my credit card company, Bank of America, for a 0 % interest cash advance promotion, with a 5 % fee the amount of the promotional cash advance. This promotion stated that I could use the promotional check to transfer a balance or deposit any amount up to my credit limit into my personal checking account. Nowhere did the offer state that making the check out to myself would result in foregoing the promotional offer. I wrote a check out for {$19000.00} to myself and the check was deposited on or around XX/XX/19, thinking that I had initiated a cash advance under the terms of the promotion. \n\nOn the most recent billing statement ending XX/XX/2019, I noticed a substantial interest charge of {$290.00}. I thought this was a mistake, so I called the customer service number for Bank of America and spoke to a representative. She informed me that, according to her three supervisors, because I had made the check out to myself, I was not taking advantage of the promotional offer. In fact, I was told that if I had made the check out to my wife, and deposited it into the very same account, that I would have received the promotional offer. Furthermore, I was told that if I had called them to initiate the cash advance over the phone, I would have received the promotional offer. I informed them that I had used some form of this promotional cash advance from Bank of America for over 10 years and never had this problem, even when writing the check out to myself, and that if I had known that writing the check to myself would result in not receiving the promotional offer, I would not have used the promotional check. I was told that the terms and conditions of my cardholder agreement makes writing a promotional check to myself outside of any promotional offer, despite the fact that the offer explicitly states that I could deposit the promotional cash advance into my personal checking account, and that I had no recourse. \n\nI am frustrated by this deceptive practice and the inherent unfairness of this promotional offer, which states that the check could be deposited into my personal checking account, yet if I make the check to myself, that it can not receive the promotional offer. Due to this deception, I have had fees of {$760.00}, and current interest of {$360.00} billed to me. I offered to pay off the original amount if they refunded this money, but they refused. \n\nPlease help end this deceptive practice, and help rectify this situation.",
         "Company has responded to the consumer and the CFPB and chooses not to provide a public response",
         "BANK OF AMERICA, NATIONAL ASSOCIATION",
         "IL",
         "60500",
         null,
         "2019-05-21 00:00:00",
         "Closed with explanation"
        ],
        [
         "2",
         "2018-12-26 00:00:00",
         "Money transfer, virtual currency, or money service",
         "International money transfer",
         "Other transaction problem",
         null,
         "The money transfer got cancelled last minute for no specific and valid reason. Refund will take 7 days. Western Union should not have charged my card if they already know that they will cancel the transfer.",
         null,
         "WESTERN UNION COMPANY, THE",
         "CT",
         "06611",
         null,
         "2018-12-26 00:00:00",
         "Closed with explanation"
        ],
        [
         "3",
         "2017-05-22 00:00:00",
         "Debt collection",
         "Other debt",
         "Attempts to collect debt not owed",
         "Debt was paid",
         "On  XXXX   XXXX ,  XXXX , I contacted Monterey Collections at  XXXX  in response to a debt collection notice dated  XXXX   XXXX ,  XXXX , from  Monterey  Collections for their  XXXX   XXXX   XXXX   XXXX   XXXX    XXXX   XXXX   Account No.  XXXX , in the amount of {$1200.00}. The original amount of the debt to  XXXX  was {$1100.00} from  XXXX   XXXX ,  XXXX , and payments were made to  XXXX  through their website between  XXXX   XXXX  and  XXXX  of  XXXX  until the amount was paid off.     The collection agent I spoke with was extremely rude to me and refused to let me speak or even finish a sentence. When I told him that I was disputing the debt, and that the original amount of the debt was less than the collection notice, not to mention all the payments, he said that I would have to provide proof of payment to  XXXX , rather than him requesting same from the company.     I also told him that the collection notice had an incorrect name for me, and he said it did n't matter. Throughout the conversation, he bullied me, would n't let me speak, talked over me, was harassing and ruder than anyone I have ever dealt with over the phone and caused me to be extremely anxious and in emotional distress.     He refused to let me talk about the facts or numbers in question and kept saying that he would have to get a copy of the original agreement. Collection agencies should have proof that a debt is actually owed before they start harassing citizens. Also, when a consumer disputes a debt, there should be a professional response from the collection agency, not bullying, condescension, etc.",
         "Company believes it acted appropriately as authorized by contract or law",
         "Monterey Financial Services LLC",
         "CA",
         "95776",
         null,
         "2017-05-22 00:00:00",
         "Closed with explanation"
        ],
        [
         "4",
         "2023-07-03 00:00:00",
         "Credit reporting, credit repair services, or other personal consumer reports",
         "Credit reporting",
         "Improper use of your report",
         "Reporting company used your report improperly",
         "The credit bureau stated my account was properly investigated but how is that possible if the open dates is inaccurate the date last active is inaccurate and date last reported is not accurate. The ground for removal and they also violated my right under XXXX XXXX XXXX XXXX XXXX XXXX XXXX XXXX XXXX XXXX XXXX XXXX XXXX XXXX XXXX XXXX XXXX XXXX XXXX XXXX XXXX XXXX XXXX XXXX XXXX XXXX XXXX XXXX XXXX XXXX XXXX XXXX XXXX XXXX XXXX XXXX XXXX XXXX XXXX XXXX XXXX XXXX XXXX XXXX 15 USC 1681 section 602 ( a ) states I have the right to privacy 15 USC 1681 a section 2 it also states a consumer reporting agency can not furnish a account without my written instructions Also the credit bureau took more then 30days days to complete my certificate mail tracking number XXXX Because of stain on my report I have been living with people and unable to get my own home for years now I cant not get a car in my name denied on 4 different occasions and its not fair to be missing out on basic things you need to survive in today world.",
         null,
         "EQUIFAX, INC.",
         "GA",
         "30815",
         null,
         "2023-07-03 00:00:00",
         "Closed with explanation"
        ],
        [
         "5",
         "2024-02-15 00:00:00",
         "Credit reporting or other personal consumer reports",
         "Credit reporting",
         "Incorrect information on your report",
         "Information belongs to someone else",
         "I am a victim of identity-theft. I am writing to request that you block all the following fraudulent accounts in my files with XXXX, Equifax, and XXXX. This information does not relate to any transactions I made. I did not authorize anyone to use my personal information. I hereby exercise my legal rights enacted by The Federal Trade Commission, which explicitly states when a victim files an affidavit it shall beg honored by all credit bureaus and all fraudulent information must be blocked within 4 days and proper notification shall be given to all furnishers pursuant to section 605b of The Federal Fair Credit Reporting Act. Failure to comply shall lead to complaints being filed with XXXX XXXX XXXX XXXX Consumer Financial Protection Bureau, and Attorney General with legal action of your companys unlawful collection practices, misrepresentation of reporting inaccurate debts, and noncompliance to adhere to laws enacted to help those who are victims of identity-theft. I request that an extended fraud alert be placed in my file explaining that fraudulent applications may be submitted in my name. Do not extend credit without first contacting me personally and verifying all applications.",
         null,
         "EQUIFAX, INC.",
         "NJ",
         "07600",
         null,
         "2024-02-15 00:00:00",
         "Closed with explanation"
        ],
        [
         "6",
         "2024-11-08 00:00:00",
         "Credit reporting or other personal consumer reports",
         "Credit reporting",
         "Incorrect information on your report",
         "Account information incorrect",
         "I have submitted multiple disputes regarding these accounts that is reporting inaccurately on my credit report. I have also submitted multiple reports regarding the account that needs to be updated. \nThese companies have refused to do work on disputes even though they're required by the law to do so. \n\nAccount Name : XXXX Account Number : XXXX Account Name : XXXX Account Number : XXXX Account Name : XXXX Account Number : XXXX",
         null,
         "EQUIFAX, INC.",
         "NY",
         "11756",
         null,
         "2024-11-08 00:00:00",
         "Closed with non-monetary relief"
        ],
        [
         "7",
         "2022-10-28 00:00:00",
         "Credit reporting, credit repair services, or other personal consumer reports",
         "Credit reporting",
         "Incorrect information on your report",
         "Information belongs to someone else",
         "Credit Reporting Agency Transunion continues to violate my consumer rights by reporting false and inaccurate information. I have disputed these items multiple times. Also I never gave them written instructions to furnish this information which I a clear violation of 15 USC 1681b ( 2 ).",
         "Company has responded to the consumer and the CFPB and chooses not to provide a public response",
         "TRANSUNION INTERMEDIATE HOLDINGS, INC.",
         "FL",
         "34219",
         null,
         "2022-10-28 00:00:00",
         "Closed with non-monetary relief"
        ],
        [
         "8",
         "2022-09-20 00:00:00",
         "Credit reporting, credit repair services, or other personal consumer reports",
         "Credit reporting",
         "Problem with a credit reporting company's investigation into an existing problem",
         "Was not notified of investigation status or results",
         "I have disputed the referenced accounts to the 3 main credit bureaus and do not owe your company anything. I dont know this company and I do not recall ever having this debt and appears to be fraud, see attached FTC Report. Moreover, no adequate information has been given and noticed these accounts appear to violate my rights as well, per 15 USC 1692 ( e ) ( f ) ( g ). Moreover, you stated the account was verified as accurate by law 15 USC 1681 ( e ). Per 15 USC 1681 ( e ) The term investigative consumer report means a consumer report or portion thereof in which information on a consumers character, general reputation, personal characteristics, or mode of living is obtained through personal interviews with neighbors, friends, or associates of the consumer reported on or with others with whom he is acquainted or who may have knowledge concerning any such items of information. However, such information shall not include specific factual information on a consumers credit record obtained directly from a creditor of the consumer or from a consumer reporting agency when such information was obtained directly from a creditor of the consumer or from the consumer. Investigations weren't completed as described by law and no factual information should be on credit reports. Im requesting the removal of accounts and/or monetary compensation due to violations of my rights. Im currently seeking litigation regarding consistent harassment, unfair debt practices, adding without my permission/authorization within 5 days, and more. As the original creditor, only I can validate the debt therefore Im requesting removal and this account violates my consumer rights in several ways. Please remove and provide some updates within 4 days of receipt, as this has been ongoing for over 3-4 months.",
         null,
         "EQUIFAX, INC.",
         "NY",
         "10462",
         null,
         "2022-09-20 00:00:00",
         "Closed with explanation"
        ],
        [
         "9",
         "2022-09-10 00:00:00",
         "Credit reporting, credit repair services, or other personal consumer reports",
         "Credit reporting",
         "Problem with a credit reporting company's investigation into an existing problem",
         "Difficulty submitting a dispute or getting information about a dispute over the phone",
         "I have tried to send my disputes to the major credit bureaus but are having difficulties in submitting my disputes and getting the inaccurate information corrected on my credit report.",
         "Company has responded to the consumer and the CFPB and chooses not to provide a public response",
         "Experian Information Solutions Inc.",
         "IN",
         "46300",
         null,
         "2022-09-10 00:00:00",
         "Closed with non-monetary relief"
        ]
       ],
       "shape": {
        "columns": 13,
        "rows": 10
       }
      },
      "text/html": [
       "<div>\n",
       "<style scoped>\n",
       "    .dataframe tbody tr th:only-of-type {\n",
       "        vertical-align: middle;\n",
       "    }\n",
       "\n",
       "    .dataframe tbody tr th {\n",
       "        vertical-align: top;\n",
       "    }\n",
       "\n",
       "    .dataframe thead th {\n",
       "        text-align: right;\n",
       "    }\n",
       "</style>\n",
       "<table border=\"1\" class=\"dataframe\">\n",
       "  <thead>\n",
       "    <tr style=\"text-align: right;\">\n",
       "      <th></th>\n",
       "      <th>date_received</th>\n",
       "      <th>product</th>\n",
       "      <th>sub-product</th>\n",
       "      <th>issue</th>\n",
       "      <th>sub-issue</th>\n",
       "      <th>consumer_complaint_narrative</th>\n",
       "      <th>company_public_response</th>\n",
       "      <th>company</th>\n",
       "      <th>state</th>\n",
       "      <th>zip_code</th>\n",
       "      <th>tags</th>\n",
       "      <th>date_sent_to_company</th>\n",
       "      <th>company_response_to_consumer</th>\n",
       "    </tr>\n",
       "  </thead>\n",
       "  <tbody>\n",
       "    <tr>\n",
       "      <th>0</th>\n",
       "      <td>2023-11-22</td>\n",
       "      <td>Credit reporting or other personal consumer re...</td>\n",
       "      <td>Credit reporting</td>\n",
       "      <td>Incorrect information on your report</td>\n",
       "      <td>Information belongs to someone else</td>\n",
       "      <td>This is my multiple endeavor to tell you that ...</td>\n",
       "      <td>Company has responded to the consumer and the ...</td>\n",
       "      <td>Experian Information Solutions Inc.</td>\n",
       "      <td>CA</td>\n",
       "      <td>92335</td>\n",
       "      <td>NaN</td>\n",
       "      <td>2023-11-22</td>\n",
       "      <td>Closed with non-monetary relief</td>\n",
       "    </tr>\n",
       "    <tr>\n",
       "      <th>1</th>\n",
       "      <td>2019-05-21</td>\n",
       "      <td>Credit card or prepaid card</td>\n",
       "      <td>General-purpose credit card or charge card</td>\n",
       "      <td>Advertising and marketing, including promotion...</td>\n",
       "      <td>Didn't receive advertised or promotional terms</td>\n",
       "      <td>On approximately XX/XX/19, I took advantage of...</td>\n",
       "      <td>Company has responded to the consumer and the ...</td>\n",
       "      <td>BANK OF AMERICA, NATIONAL ASSOCIATION</td>\n",
       "      <td>IL</td>\n",
       "      <td>60500</td>\n",
       "      <td>NaN</td>\n",
       "      <td>2019-05-21</td>\n",
       "      <td>Closed with explanation</td>\n",
       "    </tr>\n",
       "    <tr>\n",
       "      <th>2</th>\n",
       "      <td>2018-12-26</td>\n",
       "      <td>Money transfer, virtual currency, or money ser...</td>\n",
       "      <td>International money transfer</td>\n",
       "      <td>Other transaction problem</td>\n",
       "      <td>NaN</td>\n",
       "      <td>The money transfer got cancelled last minute f...</td>\n",
       "      <td>NaN</td>\n",
       "      <td>WESTERN UNION COMPANY, THE</td>\n",
       "      <td>CT</td>\n",
       "      <td>06611</td>\n",
       "      <td>NaN</td>\n",
       "      <td>2018-12-26</td>\n",
       "      <td>Closed with explanation</td>\n",
       "    </tr>\n",
       "    <tr>\n",
       "      <th>3</th>\n",
       "      <td>2017-05-22</td>\n",
       "      <td>Debt collection</td>\n",
       "      <td>Other debt</td>\n",
       "      <td>Attempts to collect debt not owed</td>\n",
       "      <td>Debt was paid</td>\n",
       "      <td>On  XXXX   XXXX ,  XXXX , I contacted Monterey...</td>\n",
       "      <td>Company believes it acted appropriately as aut...</td>\n",
       "      <td>Monterey Financial Services LLC</td>\n",
       "      <td>CA</td>\n",
       "      <td>95776</td>\n",
       "      <td>NaN</td>\n",
       "      <td>2017-05-22</td>\n",
       "      <td>Closed with explanation</td>\n",
       "    </tr>\n",
       "    <tr>\n",
       "      <th>4</th>\n",
       "      <td>2023-07-03</td>\n",
       "      <td>Credit reporting, credit repair services, or o...</td>\n",
       "      <td>Credit reporting</td>\n",
       "      <td>Improper use of your report</td>\n",
       "      <td>Reporting company used your report improperly</td>\n",
       "      <td>The credit bureau stated my account was proper...</td>\n",
       "      <td>NaN</td>\n",
       "      <td>EQUIFAX, INC.</td>\n",
       "      <td>GA</td>\n",
       "      <td>30815</td>\n",
       "      <td>NaN</td>\n",
       "      <td>2023-07-03</td>\n",
       "      <td>Closed with explanation</td>\n",
       "    </tr>\n",
       "    <tr>\n",
       "      <th>5</th>\n",
       "      <td>2024-02-15</td>\n",
       "      <td>Credit reporting or other personal consumer re...</td>\n",
       "      <td>Credit reporting</td>\n",
       "      <td>Incorrect information on your report</td>\n",
       "      <td>Information belongs to someone else</td>\n",
       "      <td>I am a victim of identity-theft. I am writing ...</td>\n",
       "      <td>NaN</td>\n",
       "      <td>EQUIFAX, INC.</td>\n",
       "      <td>NJ</td>\n",
       "      <td>07600</td>\n",
       "      <td>NaN</td>\n",
       "      <td>2024-02-15</td>\n",
       "      <td>Closed with explanation</td>\n",
       "    </tr>\n",
       "    <tr>\n",
       "      <th>6</th>\n",
       "      <td>2024-11-08</td>\n",
       "      <td>Credit reporting or other personal consumer re...</td>\n",
       "      <td>Credit reporting</td>\n",
       "      <td>Incorrect information on your report</td>\n",
       "      <td>Account information incorrect</td>\n",
       "      <td>I have submitted multiple disputes regarding t...</td>\n",
       "      <td>NaN</td>\n",
       "      <td>EQUIFAX, INC.</td>\n",
       "      <td>NY</td>\n",
       "      <td>11756</td>\n",
       "      <td>NaN</td>\n",
       "      <td>2024-11-08</td>\n",
       "      <td>Closed with non-monetary relief</td>\n",
       "    </tr>\n",
       "    <tr>\n",
       "      <th>7</th>\n",
       "      <td>2022-10-28</td>\n",
       "      <td>Credit reporting, credit repair services, or o...</td>\n",
       "      <td>Credit reporting</td>\n",
       "      <td>Incorrect information on your report</td>\n",
       "      <td>Information belongs to someone else</td>\n",
       "      <td>Credit Reporting Agency Transunion continues t...</td>\n",
       "      <td>Company has responded to the consumer and the ...</td>\n",
       "      <td>TRANSUNION INTERMEDIATE HOLDINGS, INC.</td>\n",
       "      <td>FL</td>\n",
       "      <td>34219</td>\n",
       "      <td>NaN</td>\n",
       "      <td>2022-10-28</td>\n",
       "      <td>Closed with non-monetary relief</td>\n",
       "    </tr>\n",
       "    <tr>\n",
       "      <th>8</th>\n",
       "      <td>2022-09-20</td>\n",
       "      <td>Credit reporting, credit repair services, or o...</td>\n",
       "      <td>Credit reporting</td>\n",
       "      <td>Problem with a credit reporting company's inve...</td>\n",
       "      <td>Was not notified of investigation status or re...</td>\n",
       "      <td>I have disputed the referenced accounts to the...</td>\n",
       "      <td>NaN</td>\n",
       "      <td>EQUIFAX, INC.</td>\n",
       "      <td>NY</td>\n",
       "      <td>10462</td>\n",
       "      <td>NaN</td>\n",
       "      <td>2022-09-20</td>\n",
       "      <td>Closed with explanation</td>\n",
       "    </tr>\n",
       "    <tr>\n",
       "      <th>9</th>\n",
       "      <td>2022-09-10</td>\n",
       "      <td>Credit reporting, credit repair services, or o...</td>\n",
       "      <td>Credit reporting</td>\n",
       "      <td>Problem with a credit reporting company's inve...</td>\n",
       "      <td>Difficulty submitting a dispute or getting inf...</td>\n",
       "      <td>I have tried to send my disputes to the major ...</td>\n",
       "      <td>Company has responded to the consumer and the ...</td>\n",
       "      <td>Experian Information Solutions Inc.</td>\n",
       "      <td>IN</td>\n",
       "      <td>46300</td>\n",
       "      <td>NaN</td>\n",
       "      <td>2022-09-10</td>\n",
       "      <td>Closed with non-monetary relief</td>\n",
       "    </tr>\n",
       "  </tbody>\n",
       "</table>\n",
       "</div>"
      ],
      "text/plain": [
       "  date_received                                            product  \\\n",
       "0    2023-11-22  Credit reporting or other personal consumer re...   \n",
       "1    2019-05-21                        Credit card or prepaid card   \n",
       "2    2018-12-26  Money transfer, virtual currency, or money ser...   \n",
       "3    2017-05-22                                    Debt collection   \n",
       "4    2023-07-03  Credit reporting, credit repair services, or o...   \n",
       "5    2024-02-15  Credit reporting or other personal consumer re...   \n",
       "6    2024-11-08  Credit reporting or other personal consumer re...   \n",
       "7    2022-10-28  Credit reporting, credit repair services, or o...   \n",
       "8    2022-09-20  Credit reporting, credit repair services, or o...   \n",
       "9    2022-09-10  Credit reporting, credit repair services, or o...   \n",
       "\n",
       "                                  sub-product  \\\n",
       "0                            Credit reporting   \n",
       "1  General-purpose credit card or charge card   \n",
       "2                International money transfer   \n",
       "3                                  Other debt   \n",
       "4                            Credit reporting   \n",
       "5                            Credit reporting   \n",
       "6                            Credit reporting   \n",
       "7                            Credit reporting   \n",
       "8                            Credit reporting   \n",
       "9                            Credit reporting   \n",
       "\n",
       "                                               issue  \\\n",
       "0               Incorrect information on your report   \n",
       "1  Advertising and marketing, including promotion...   \n",
       "2                          Other transaction problem   \n",
       "3                  Attempts to collect debt not owed   \n",
       "4                        Improper use of your report   \n",
       "5               Incorrect information on your report   \n",
       "6               Incorrect information on your report   \n",
       "7               Incorrect information on your report   \n",
       "8  Problem with a credit reporting company's inve...   \n",
       "9  Problem with a credit reporting company's inve...   \n",
       "\n",
       "                                           sub-issue  \\\n",
       "0                Information belongs to someone else   \n",
       "1     Didn't receive advertised or promotional terms   \n",
       "2                                                NaN   \n",
       "3                                      Debt was paid   \n",
       "4      Reporting company used your report improperly   \n",
       "5                Information belongs to someone else   \n",
       "6                      Account information incorrect   \n",
       "7                Information belongs to someone else   \n",
       "8  Was not notified of investigation status or re...   \n",
       "9  Difficulty submitting a dispute or getting inf...   \n",
       "\n",
       "                        consumer_complaint_narrative  \\\n",
       "0  This is my multiple endeavor to tell you that ...   \n",
       "1  On approximately XX/XX/19, I took advantage of...   \n",
       "2  The money transfer got cancelled last minute f...   \n",
       "3  On  XXXX   XXXX ,  XXXX , I contacted Monterey...   \n",
       "4  The credit bureau stated my account was proper...   \n",
       "5  I am a victim of identity-theft. I am writing ...   \n",
       "6  I have submitted multiple disputes regarding t...   \n",
       "7  Credit Reporting Agency Transunion continues t...   \n",
       "8  I have disputed the referenced accounts to the...   \n",
       "9  I have tried to send my disputes to the major ...   \n",
       "\n",
       "                             company_public_response  \\\n",
       "0  Company has responded to the consumer and the ...   \n",
       "1  Company has responded to the consumer and the ...   \n",
       "2                                                NaN   \n",
       "3  Company believes it acted appropriately as aut...   \n",
       "4                                                NaN   \n",
       "5                                                NaN   \n",
       "6                                                NaN   \n",
       "7  Company has responded to the consumer and the ...   \n",
       "8                                                NaN   \n",
       "9  Company has responded to the consumer and the ...   \n",
       "\n",
       "                                  company state zip_code tags  \\\n",
       "0     Experian Information Solutions Inc.    CA    92335  NaN   \n",
       "1   BANK OF AMERICA, NATIONAL ASSOCIATION    IL    60500  NaN   \n",
       "2              WESTERN UNION COMPANY, THE    CT    06611  NaN   \n",
       "3         Monterey Financial Services LLC    CA    95776  NaN   \n",
       "4                           EQUIFAX, INC.    GA    30815  NaN   \n",
       "5                           EQUIFAX, INC.    NJ    07600  NaN   \n",
       "6                           EQUIFAX, INC.    NY    11756  NaN   \n",
       "7  TRANSUNION INTERMEDIATE HOLDINGS, INC.    FL    34219  NaN   \n",
       "8                           EQUIFAX, INC.    NY    10462  NaN   \n",
       "9     Experian Information Solutions Inc.    IN    46300  NaN   \n",
       "\n",
       "  date_sent_to_company     company_response_to_consumer  \n",
       "0           2023-11-22  Closed with non-monetary relief  \n",
       "1           2019-05-21          Closed with explanation  \n",
       "2           2018-12-26          Closed with explanation  \n",
       "3           2017-05-22          Closed with explanation  \n",
       "4           2023-07-03          Closed with explanation  \n",
       "5           2024-02-15          Closed with explanation  \n",
       "6           2024-11-08  Closed with non-monetary relief  \n",
       "7           2022-10-28  Closed with non-monetary relief  \n",
       "8           2022-09-20          Closed with explanation  \n",
       "9           2022-09-10  Closed with non-monetary relief  "
      ]
     },
     "execution_count": 58,
     "metadata": {},
     "output_type": "execute_result"
    }
   ],
   "source": [
    "# zip_code malformation handeling\n",
    "df['zip_code'] = df['zip_code'].apply(clean_zip)\n",
    "df['zip_code'] = df['zip_code'].fillna('00000')\n",
    "df.info()\n",
    "df.head(10)\n"
   ]
  },
  {
   "cell_type": "code",
   "execution_count": 59,
   "id": "7953e349",
   "metadata": {},
   "outputs": [
    {
     "data": {
      "application/vnd.microsoft.datawrangler.viewer.v0+json": {
       "columns": [
        {
         "name": "index",
         "rawType": "object",
         "type": "string"
        },
        {
         "name": "0",
         "rawType": "float64",
         "type": "float"
        }
       ],
       "ref": "6a74d62d-36cd-40a9-9398-dd134ab80453",
       "rows": [
        [
         "date_received",
         "0.0"
        ],
        [
         "product",
         "0.0"
        ],
        [
         "sub-product",
         "0.0"
        ],
        [
         "issue",
         "0.0"
        ],
        [
         "sub-issue",
         "0.0"
        ],
        [
         "consumer_complaint_narrative",
         "0.0"
        ],
        [
         "company_public_response",
         "0.0"
        ],
        [
         "company",
         "0.0"
        ],
        [
         "state",
         "0.0"
        ],
        [
         "zip_code",
         "0.0"
        ],
        [
         "tags",
         "0.0"
        ],
        [
         "date_sent_to_company",
         "0.0"
        ],
        [
         "company_response_to_consumer",
         "0.0"
        ]
       ],
       "shape": {
        "columns": 1,
        "rows": 13
       }
      },
      "text/plain": [
       "date_received                   0.0\n",
       "product                         0.0\n",
       "sub-product                     0.0\n",
       "issue                           0.0\n",
       "sub-issue                       0.0\n",
       "consumer_complaint_narrative    0.0\n",
       "company_public_response         0.0\n",
       "company                         0.0\n",
       "state                           0.0\n",
       "zip_code                        0.0\n",
       "tags                            0.0\n",
       "date_sent_to_company            0.0\n",
       "company_response_to_consumer    0.0\n",
       "dtype: float64"
      ]
     },
     "execution_count": 59,
     "metadata": {},
     "output_type": "execute_result"
    }
   ],
   "source": [
    "# Null handeling\n",
    "# tags\n",
    "df['tags'] = df['tags'].fillna('none')\n",
    "# company_public_response\n",
    "df['company_public_response'] = df['company_public_response'].fillna('no response')\n",
    "# sub-issue\n",
    "df['sub-issue'] = df['sub-issue'].fillna('none')\n",
    "# sub-product\n",
    "df['sub-product'] = df['sub-product'].fillna('none')\n",
    "# state\n",
    "df['state'] = df.apply(lambda row: row['state'] if pd.notna(row['state']) else zip_state(row['zip_code']), axis = 1)\n",
    "# company_response_to_consumer\n",
    "df['company_response_to_consumer'] = df['company_response_to_consumer'].fillna('no response')\n",
    "# consumer_complaint_narrative\n",
    "df['consumer_complaint_narrative'] = df['consumer_complaint_narrative'].fillna('')\n",
    "# company\n",
    "df['company'] = df['company'].fillna('unknown')\n",
    "# date_sent_to_company\n",
    "df['date_sent_to_company'] = df['date_sent_to_company'].fillna(df['date_received'])\n",
    "df['date_sent_to_company'] = df['date_sent_to_company'].fillna(pd.Timestamp('2000-01-01'))\n",
    "\n",
    "df.isnull().mean().sort_values(ascending=False)\n"
   ]
  },
  {
   "cell_type": "code",
   "execution_count": 60,
   "id": "8b6e4eb7",
   "metadata": {},
   "outputs": [
    {
     "data": {
      "application/vnd.microsoft.datawrangler.viewer.v0+json": {
       "columns": [
        {
         "name": "index",
         "rawType": "object",
         "type": "string"
        },
        {
         "name": "0",
         "rawType": "float64",
         "type": "float"
        }
       ],
       "ref": "8b9caedf-8d35-417a-a065-4c721e342f93",
       "rows": [
        [
         "date_received",
         "0.0"
        ],
        [
         "product",
         "0.0"
        ],
        [
         "sub-product",
         "0.0"
        ],
        [
         "issue",
         "0.0"
        ],
        [
         "sub-issue",
         "0.0"
        ],
        [
         "consumer_complaint_narrative",
         "0.0"
        ],
        [
         "company_public_response",
         "0.0"
        ],
        [
         "company",
         "0.0"
        ],
        [
         "state",
         "0.0"
        ],
        [
         "zip_code",
         "0.0"
        ],
        [
         "tags",
         "0.0"
        ],
        [
         "date_sent_to_company",
         "0.0"
        ],
        [
         "company_response_to_consumer",
         "0.0"
        ],
        [
         "process_days",
         "0.0"
        ],
        [
         "year_received",
         "0.0"
        ],
        [
         "month_received",
         "0.0"
        ]
       ],
       "shape": {
        "columns": 1,
        "rows": 16
       }
      },
      "text/plain": [
       "date_received                   0.0\n",
       "product                         0.0\n",
       "sub-product                     0.0\n",
       "issue                           0.0\n",
       "sub-issue                       0.0\n",
       "consumer_complaint_narrative    0.0\n",
       "company_public_response         0.0\n",
       "company                         0.0\n",
       "state                           0.0\n",
       "zip_code                        0.0\n",
       "tags                            0.0\n",
       "date_sent_to_company            0.0\n",
       "company_response_to_consumer    0.0\n",
       "process_days                    0.0\n",
       "year_received                   0.0\n",
       "month_received                  0.0\n",
       "dtype: float64"
      ]
     },
     "execution_count": 60,
     "metadata": {},
     "output_type": "execute_result"
    }
   ],
   "source": [
    "# Derived features for later analysis\n",
    "df['process_days'] = (df['date_sent_to_company'] - df['date_received']).dt.days\n",
    "df['year_received'] = (df['date_received']).dt.year\n",
    "df['month_received'] = (df['date_received']).dt.month\n",
    "\n",
    "# Double check nulls\n",
    "df.isnull().mean().sort_values(ascending=False)\n"
   ]
  },
  {
   "cell_type": "code",
   "execution_count": 61,
   "id": "00529971",
   "metadata": {},
   "outputs": [],
   "source": [
    "# Categorical variables\n",
    "cat_columns = [\n",
    "    'product',\n",
    "    'sub-product',\n",
    "    'issue',\n",
    "    'sub-issue',\n",
    "    'company',\n",
    "    'state',\n",
    "    'tags',\n",
    "    'company_response_to_consumer',\n",
    "    'month_received',\n",
    "    'year_received'\n",
    "]\n",
    "\n",
    "for col in cat_columns:\n",
    "    df[col] = df[col].astype('category')"
   ]
  },
  {
   "cell_type": "code",
   "execution_count": 62,
   "id": "27063752",
   "metadata": {},
   "outputs": [
    {
     "name": "stderr",
     "output_type": "stream",
     "text": [
      "/var/folders/zg/_j5hfs9d12d155g0l1sy26n00000gn/T/ipykernel_26079/1182789991.py:27: FutureWarning: The behavior of Series.replace (and DataFrame.replace) with CategoricalDtype is deprecated. In a future version, replace will only be used for cases that preserve the categories. To change the categories, use ser.cat.rename_categories instead.\n",
      "  df[col] = df[col].replace(rare, 'Rare')\n",
      "/var/folders/zg/_j5hfs9d12d155g0l1sy26n00000gn/T/ipykernel_26079/1182789991.py:27: FutureWarning: The behavior of Series.replace (and DataFrame.replace) with CategoricalDtype is deprecated. In a future version, replace will only be used for cases that preserve the categories. To change the categories, use ser.cat.rename_categories instead.\n",
      "  df[col] = df[col].replace(rare, 'Rare')\n"
     ]
    }
   ],
   "source": [
    "# Grouping\n",
    "df = group_cats(df, 'company')\n",
    "df = group_cats(df, 'sub-issue')"
   ]
  },
  {
   "cell_type": "code",
   "execution_count": 63,
   "id": "e13308d7",
   "metadata": {},
   "outputs": [],
   "source": [
    "# Text prep\n",
    "df['consumer_complaint_narrative'] = df['consumer_complaint_narrative'].apply(clean_text)\n",
    "df['has_narrative'] = df['consumer_complaint_narrative'].apply(lambda x: bool(x.strip()))"
   ]
  },
  {
   "cell_type": "code",
   "execution_count": 64,
   "id": "a4239c22",
   "metadata": {},
   "outputs": [
    {
     "name": "stdout",
     "output_type": "stream",
     "text": [
      "data exported: ../data/clean_data.csv\n"
     ]
    }
   ],
   "source": [
    "# Export\n",
    "export(df)"
   ]
  }
 ],
 "metadata": {
  "kernelspec": {
   "display_name": ".venv",
   "language": "python",
   "name": "python3"
  },
  "language_info": {
   "codemirror_mode": {
    "name": "ipython",
    "version": 3
   },
   "file_extension": ".py",
   "mimetype": "text/x-python",
   "name": "python",
   "nbconvert_exporter": "python",
   "pygments_lexer": "ipython3",
   "version": "3.13.0"
  }
 },
 "nbformat": 4,
 "nbformat_minor": 5
}
